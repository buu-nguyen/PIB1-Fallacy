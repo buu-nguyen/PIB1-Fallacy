{
 "cells": [
  {
   "cell_type": "markdown",
   "metadata": {},
   "source": [
    "# Fallacies Learning"
   ]
  },
  {
   "cell_type": "code",
   "execution_count": null,
   "metadata": {},
   "outputs": [],
   "source": [
    "import pandas as pd\n",
    "import numpy as np"
   ]
  },
  {
   "cell_type": "code",
   "execution_count": null,
   "metadata": {},
   "outputs": [],
   "source": [
    "df = pd.read_csv('questionbank.csv', index_col='id')\n",
    "difficulty_list = df['difficulty']\n",
    "df.insert(5, 'picked', np.full(difficulty_list.count(), False), True) # Add a picked column\n",
    "\n",
    "df.head()"
   ]
  },
  {
   "cell_type": "markdown",
   "metadata": {},
   "source": [
    "## 1. Calibrate item bank"
   ]
  },
  {
   "cell_type": "markdown",
   "metadata": {},
   "source": [
    "### 1PL IRT simulation"
   ]
  },
  {
   "cell_type": "markdown",
   "metadata": {},
   "source": [
    "Every item in the bank has a difficulty in the range 0 to 100."
   ]
  },
  {
   "cell_type": "markdown",
   "metadata": {},
   "source": [
    "## 2. CAT procedure"
   ]
  },
  {
   "cell_type": "code",
   "execution_count": null,
   "metadata": {},
   "outputs": [],
   "source": [
    "def nearest(value, array):\n",
    "    \n",
    "    idx = (np.abs(array - value)).idxmin()\n",
    "    \n",
    "    return idx\n",
    "\n",
    "def new_question(df, D, L, H, R):\n",
    "\n",
    "    question = df.loc[nearest(D, difficulty_list)] # Find next item near difficulty, D\n",
    "    D = question.difficulty\n",
    "    Answer = question.answer\n",
    "    \n",
    "    print('Question ID: ', question.id)\n",
    "    print(\"Question difficulty: \", D)\n",
    "\n",
    "    # Push the question to the front end and collect user respone\n",
    "    #Respone = user.respone\n",
    "    Respone = int(input())\n",
    "\n",
    "    L += 1 # Count the items taken\n",
    "    H += D # Add the difficulties used\n",
    "    \n",
    "    # Scoring rule\n",
    "    if Respone == Answer:\n",
    "        D += 2 / L # Update item difficulty\n",
    "        R += 1 # Count right answers\n",
    "    else:\n",
    "        D -= 2/L # Update item difficulty\n",
    "        \n",
    "    print(\"Current difficulty: \", D)\n",
    "    return (D, L, H, R)"
   ]
  },
  {
   "cell_type": "code",
   "execution_count": null,
   "metadata": {},
   "outputs": [],
   "source": []
  }
 ],
 "metadata": {
  "kernelspec": {
   "display_name": "Python 3",
   "language": "python",
   "name": "python3"
  },
  "language_info": {
   "codemirror_mode": {
    "name": "ipython",
    "version": 3
   },
   "file_extension": ".py",
   "mimetype": "text/x-python",
   "name": "python",
   "nbconvert_exporter": "python",
   "pygments_lexer": "ipython3",
   "version": "3.7.4"
  }
 },
 "nbformat": 4,
 "nbformat_minor": 2
}
